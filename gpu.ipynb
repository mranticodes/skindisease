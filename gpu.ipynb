{
 "cells": [
  {
   "cell_type": "code",
   "execution_count": 1,
   "metadata": {},
   "outputs": [
    {
     "name": "stdout",
     "output_type": "stream",
     "text": [
      "GPU Name: /device:GPU:0\n"
     ]
    }
   ],
   "source": [
    "import tensorflow as tf\n",
    "\n",
    "# Get a list of available GPUs\n",
    "gpus = tf.config.experimental.list_physical_devices('GPU')\n",
    "\n",
    "if gpus:\n",
    "    # Get the name of the first GPU (assuming you have at least one GPU)\n",
    "    gpu_name = tf.test.gpu_device_name()\n",
    "    print(\"GPU Name:\", gpu_name)\n",
    "else:\n",
    "    print(\"No GPU available. TensorFlow will use CPU.\")\n"
   ]
  },
  {
   "cell_type": "code",
   "execution_count": 6,
   "metadata": {},
   "outputs": [
    {
     "name": "stdout",
     "output_type": "stream",
     "text": [
      "1/1 [==============================] - 1s 708ms/step\n",
      "Predicted class: Acne and Rosacea Photos\n"
     ]
    }
   ],
   "source": [
    "import tensorflow as tf\n",
    "from tensorflow.keras.preprocessing import image\n",
    "import numpy as np\n",
    "# Load the saved model\n",
    "loaded_model = tf.keras.models.load_model(\"final_model_62.h5\")\n",
    "uploaded_image_filename = \"download.jpeg\"\n",
    "\n",
    "# Get the class labels from the subdirectories in the training data folder\n",
    "class_labels =  [\"Acne and Rosacea Photos\",\"Eczema Photos\",\"Normal\",\"Psoriasis pictures Lichen Planus and related diseases\",\"Tinea Ringworm Candidiasis and other Fungal Infections\",\"vitiligo\"]\n",
    "# print(class_labels)\n",
    "# Load and preprocess the uploaded image\n",
    "img = image.load_img(uploaded_image_filename, target_size=(224, 224))  # Resize to (224, 224)\n",
    "img_array = image.img_to_array(img)\n",
    "img_array = np.expand_dims(img_array, axis=0)  # Add batch dimension\n",
    "img_array = img_array / 255.0  # Normalize pixel values\n",
    "\n",
    "# Make predictions\n",
    "predictions = loaded_model.predict(img_array)\n",
    "\n",
    "# Get the predicted class index\n",
    "predicted_class_index = np.argmax(predictions)\n",
    "\n",
    "# Get the predicted class label using the extracted class labels\n",
    "predicted_class_label = class_labels[predicted_class_index]\n",
    "\n",
    "print(f'Predicted class: {predicted_class_label}')"
   ]
  },
  {
   "cell_type": "code",
   "execution_count": null,
   "metadata": {},
   "outputs": [],
   "source": []
  },
  {
   "cell_type": "code",
   "execution_count": null,
   "metadata": {},
   "outputs": [],
   "source": []
  },
  {
   "cell_type": "code",
   "execution_count": null,
   "metadata": {},
   "outputs": [],
   "source": []
  },
  {
   "cell_type": "code",
   "execution_count": null,
   "metadata": {},
   "outputs": [],
   "source": []
  },
  {
   "cell_type": "code",
   "execution_count": null,
   "metadata": {},
   "outputs": [],
   "source": []
  },
  {
   "cell_type": "code",
   "execution_count": null,
   "metadata": {},
   "outputs": [],
   "source": []
  }
 ],
 "metadata": {
  "kernelspec": {
   "display_name": "Python 3",
   "language": "python",
   "name": "python3"
  },
  "language_info": {
   "codemirror_mode": {
    "name": "ipython",
    "version": 3
   },
   "file_extension": ".py",
   "mimetype": "text/x-python",
   "name": "python",
   "nbconvert_exporter": "python",
   "pygments_lexer": "ipython3",
   "version": "3.9.12"
  },
  "orig_nbformat": 4
 },
 "nbformat": 4,
 "nbformat_minor": 2
}
