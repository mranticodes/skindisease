{
  "cells": [
    {
      "cell_type": "code",
      "execution_count": 15,
      "metadata": {
        "id": "Xqn9o7FRYEmX"
      },
      "outputs": [],
      "source": [
        "\n",
        "train_data_dir = \"skin/train\"\n",
        "test_data_dir = \"skin/test\""
      ]
    },
    {
      "cell_type": "code",
      "execution_count": 16,
      "metadata": {},
      "outputs": [
        {
          "name": "stdout",
          "output_type": "stream",
          "text": [
            "Found 7452 images belonging to 6 classes.\n",
            "Found 1644 images belonging to 6 classes.\n"
          ]
        }
      ],
      "source": [
        "import tensorflow as tf\n",
        "from tensorflow.keras.preprocessing.image import ImageDataGenerator\n",
        "from tensorflow.keras.applications import MobileNetV2\n",
        "from tensorflow.keras import layers, models\n",
        "from tensorflow.keras.layers import Dropout\n",
        "from tensorflow.keras.regularizers import l2\n",
        "from tensorflow.keras.optimizers import Adam\n",
        "\n",
        "# Set GPU memory growth\n",
        "gpus = tf.config.experimental.list_physical_devices('GPU')\n",
        "if gpus:\n",
        "    for gpu in gpus:\n",
        "        tf.config.experimental.set_memory_growth(gpu, True)\n",
        "\n",
        "# Define data generators for training and testing\n",
        "train_datagen = ImageDataGenerator(\n",
        "    rescale=1.0/255,  # Normalize pixel values to [0, 1]\n",
        "    rotation_range=20,\n",
        "    width_shift_range=0.2,\n",
        "    height_shift_range=0.2,\n",
        "    shear_range=0.2,\n",
        "    zoom_range=0.2,\n",
        "    horizontal_flip=True,\n",
        "    fill_mode='nearest'\n",
        ")\n",
        "\n",
        "test_datagen = ImageDataGenerator(rescale=1.0/255)  # Normalize pixel values for test data\n",
        "\n",
        "# Set the batch size\n",
        "batch_size = 16  # Reduce batch size to save GPU memory\n",
        "\n",
        "# Create training and testing data generators\n",
        "train_generator = train_datagen.flow_from_directory(\n",
        "    train_data_dir,\n",
        "    target_size=(224, 224),  # Resize images to (224, 224)\n",
        "    batch_size=batch_size,\n",
        "    class_mode='categorical'  # Assuming you have multiple classes (categorical classification)\n",
        ")\n",
        "\n",
        "test_generator = test_datagen.flow_from_directory(\n",
        "    test_data_dir,\n",
        "    target_size=(224, 224),  # Resize images to (224, 224)\n",
        "    batch_size=batch_size,\n",
        "    class_mode='categorical'  # Assuming you have multiple classes (categorical classification)\n",
        ")\n",
        "\n"
      ]
    },
    {
      "cell_type": "code",
      "execution_count": null,
      "metadata": {},
      "outputs": [],
      "source": [
        "\n"
      ]
    },
    {
      "cell_type": "code",
      "execution_count": null,
      "metadata": {},
      "outputs": [],
      "source": []
    },
    {
      "cell_type": "code",
      "execution_count": null,
      "metadata": {},
      "outputs": [],
      "source": []
    },
    {
      "cell_type": "code",
      "execution_count": 17,
      "metadata": {},
      "outputs": [
        {
          "name": "stdout",
          "output_type": "stream",
          "text": [
            "Model: \"sequential_2\"\n",
            "_________________________________________________________________\n",
            " Layer (type)                Output Shape              Param #   \n",
            "=================================================================\n",
            " mobilenetv2_1.00_224 (Funct  (None, 7, 7, 1280)       2257984   \n",
            " ional)                                                          \n",
            "                                                                 \n",
            " global_average_pooling2d_2   (None, 1280)             0         \n",
            " (GlobalAveragePooling2D)                                        \n",
            "                                                                 \n",
            " dropout_2 (Dropout)         (None, 1280)              0         \n",
            "                                                                 \n",
            " dense_4 (Dense)             (None, 128)               163968    \n",
            "                                                                 \n",
            " dense_5 (Dense)             (None, 6)                 774       \n",
            "                                                                 \n",
            "=================================================================\n",
            "Total params: 2,422,726\n",
            "Trainable params: 2,388,614\n",
            "Non-trainable params: 34,112\n",
            "_________________________________________________________________\n",
            "Epoch 1/15\n",
            "466/466 [==============================] - 104s 222ms/step - loss: 1.0595 - accuracy: 0.5451 - val_loss: 9.8725 - val_accuracy: 0.2263\n",
            "Epoch 2/15\n",
            "466/466 [==============================] - 97s 209ms/step - loss: 0.8922 - accuracy: 0.6060 - val_loss: 7.6681 - val_accuracy: 0.2220\n",
            "Epoch 3/15\n",
            "466/466 [==============================] - 95s 203ms/step - loss: 0.8546 - accuracy: 0.6275 - val_loss: 3.8522 - val_accuracy: 0.3315\n",
            "Epoch 4/15\n",
            "466/466 [==============================] - 96s 206ms/step - loss: 0.8073 - accuracy: 0.6499 - val_loss: 1.5517 - val_accuracy: 0.5219\n",
            "Epoch 5/15\n",
            "466/466 [==============================] - 94s 203ms/step - loss: 0.7816 - accuracy: 0.6724 - val_loss: 1.8200 - val_accuracy: 0.5170\n",
            "Epoch 6/15\n",
            "466/466 [==============================] - 94s 202ms/step - loss: 0.7708 - accuracy: 0.6692 - val_loss: 2.4269 - val_accuracy: 0.4209\n",
            "Epoch 7/15\n",
            "466/466 [==============================] - 94s 201ms/step - loss: 0.7295 - accuracy: 0.6853 - val_loss: 3.3653 - val_accuracy: 0.3339\n",
            "Epoch 8/15\n",
            "466/466 [==============================] - 101s 217ms/step - loss: 0.7422 - accuracy: 0.6897 - val_loss: 3.1908 - val_accuracy: 0.3717\n",
            "Epoch 9/15\n",
            "466/466 [==============================] - 100s 215ms/step - loss: 0.7089 - accuracy: 0.7044 - val_loss: 5.9652 - val_accuracy: 0.3084\n",
            "Epoch 10/15\n",
            "466/466 [==============================] - 99s 211ms/step - loss: 0.6810 - accuracy: 0.7151 - val_loss: 1.2607 - val_accuracy: 0.5736\n",
            "Epoch 11/15\n",
            "466/466 [==============================] - 102s 219ms/step - loss: 0.6685 - accuracy: 0.7293 - val_loss: 1.6572 - val_accuracy: 0.5310\n",
            "Epoch 12/15\n",
            "466/466 [==============================] - 97s 207ms/step - loss: 0.6617 - accuracy: 0.7309 - val_loss: 1.8978 - val_accuracy: 0.4769\n",
            "Epoch 13/15\n",
            "466/466 [==============================] - 95s 203ms/step - loss: 0.6520 - accuracy: 0.7346 - val_loss: 1.3298 - val_accuracy: 0.6210\n",
            "Epoch 14/15\n",
            "466/466 [==============================] - 95s 204ms/step - loss: 0.6342 - accuracy: 0.7419 - val_loss: 2.3786 - val_accuracy: 0.5341\n",
            "Epoch 15/15\n",
            "466/466 [==============================] - 157s 338ms/step - loss: 0.6422 - accuracy: 0.7422 - val_loss: 2.9672 - val_accuracy: 0.4410\n"
          ]
        }
      ],
      "source": [
        "base_model = MobileNetV2(weights='imagenet', include_top=False, input_shape=(224, 224, 3))\n",
        "\n",
        "# Add custom classification layers on top\n",
        "model = models.Sequential([\n",
        "    base_model,\n",
        "    layers.GlobalAveragePooling2D(),  # Pooling layer\n",
        "    Dropout(0.5),\n",
        "    layers.Dense(128, activation='relu'),  # Additional dense layer (adjust as needed)\n",
        "    layers.Dense(6, activation='softmax')  # 6 classes (adjust as needed)\n",
        "])\n",
        "\n",
        "# Change the learning rate to a different value, e.g., 0.001\n",
        "optimizer = Adam(learning_rate=0.001)\n",
        "\n",
        "# Compile the model with the updated optimizer\n",
        "model.compile(optimizer=optimizer, loss='categorical_crossentropy', metrics=['accuracy'])\n",
        "\n",
        "model.summary()  # View the model architecture\n",
        "\n",
        "# Set the number of training epochs\n",
        "epochs = 15\n",
        "\n",
        "\n",
        "# Train the model with gradient checkpointing\n",
        "model.compile(\n",
        "    optimizer=optimizer,\n",
        "    loss='categorical_crossentropy',\n",
        "    metrics=['accuracy'],\n",
        "    run_eagerly=True  # Enable eager execution for gradient checkpointing\n",
        ")\n",
        "\n",
        "# Train the model\n",
        "history = model.fit(\n",
        "    train_generator,\n",
        "    epochs=epochs,\n",
        "    validation_data=test_generator\n",
        ")"
      ]
    },
    {
      "cell_type": "code",
      "execution_count": null,
      "metadata": {},
      "outputs": [],
      "source": []
    },
    {
      "cell_type": "code",
      "execution_count": 18,
      "metadata": {},
      "outputs": [
        {
          "name": "stdout",
          "output_type": "stream",
          "text": [
            "103/103 [==============================] - 8s 77ms/step - loss: 2.9672 - accuracy: 0.4410\n",
            "Test Accuracy: 44.10%\n"
          ]
        }
      ],
      "source": [
        "# Evaluate the model on the test dataset\n",
        "test_loss, test_accuracy = model.evaluate(test_generator)\n",
        "\n",
        "# Print the test accuracy\n",
        "print(f'Test Accuracy: {test_accuracy * 100:.2f}%')\n",
        "\n"
      ]
    },
    {
      "cell_type": "code",
      "execution_count": 19,
      "metadata": {},
      "outputs": [
        {
          "name": "stdout",
          "output_type": "stream",
          "text": [
            "1/1 [==============================] - 0s 67ms/step\n",
            "Predicted class: class1\n",
            "Confidence score: 70.86%\n"
          ]
        }
      ],
      "source": [
        "import numpy as np\n",
        "from tensorflow.keras.preprocessing import image\n",
        "from tensorflow.keras.applications.mobilenet_v2 import decode_predictions, preprocess_input\n",
        "\n",
        "\n",
        "# Load the test image\n",
        "test_image_path = r'D:\\skindisease\\skin\\test\\Eczema Photos\\eczema-acute-4.jpg'  # Replace with the path to your test image\n",
        "img = image.load_img(test_image_path, target_size=(224, 224))  # Resize to match model input size\n",
        "img_array = image.img_to_array(img)\n",
        "img_array = np.expand_dims(img_array, axis=0)  # Add batch dimension\n",
        "\n",
        "# Preprocess the image (normalize pixel values)\n",
        "img_array = img_array / 255.0\n",
        "\n",
        "# Make predictions using the trained model\n",
        "predictions = model.predict(img_array)\n",
        "\n",
        "# Interpret the predictions (assuming you have class labels)\n",
        "class_labels = ['class1', 'class2', 'class3', 'class4', 'class5', 'class6']  # Replace with your class labels\n",
        "\n",
        "# Get the predicted class index\n",
        "predicted_class_index = np.argmax(predictions)\n",
        "\n",
        "# Get the predicted class label\n",
        "predicted_class_label = class_labels[predicted_class_index]\n",
        "\n",
        "# Print the predicted class label and confidence score\n",
        "print(f'Predicted class: {predicted_class_label}')\n",
        "print(f'Confidence score: {predictions[0][predicted_class_index] * 100:.2f}%')\n",
        "\n"
      ]
    },
    {
      "cell_type": "code",
      "execution_count": null,
      "metadata": {},
      "outputs": [],
      "source": []
    },
    {
      "cell_type": "code",
      "execution_count": 20,
      "metadata": {},
      "outputs": [
        {
          "name": "stdout",
          "output_type": "stream",
          "text": [
            "Found 16347 images belonging to 24 classes.\n",
            "Found 4195 images belonging to 24 classes.\n"
          ]
        }
      ],
      "source": [
        "import tensorflow as tf\n",
        "from tensorflow.keras.preprocessing.image import ImageDataGenerator\n",
        "from tensorflow.keras.applications import MobileNetV2\n",
        "from tensorflow.keras import layers, models\n",
        "from tensorflow.keras.layers import Dropout\n",
        "from tensorflow.keras.regularizers import l2\n",
        "from tensorflow.keras.optimizers import Adam\n",
        "\n",
        "# Set GPU memory growth\n",
        "gpus = tf.config.experimental.list_physical_devices('GPU')\n",
        "if gpus:\n",
        "    for gpu in gpus:\n",
        "        tf.config.experimental.set_memory_growth(gpu, True)\n",
        "\n",
        "# Define data generators for training and testing\n",
        "train_datagen = ImageDataGenerator(\n",
        "    rescale=1.0/255,  # Normalize pixel values to [0, 1]\n",
        "    rotation_range=20,\n",
        "    width_shift_range=0.2,\n",
        "    height_shift_range=0.2,\n",
        "    shear_range=0.2,\n",
        "    zoom_range=0.2,\n",
        "    horizontal_flip=True,\n",
        "    fill_mode='nearest'\n",
        ")\n",
        "\n",
        "test_datagen = ImageDataGenerator(rescale=1.0/255)  # Normalize pixel values for test data\n",
        "\n",
        "# Set the batch size\n",
        "batch_size = 16  # Reduce batch size to save GPU memory\n",
        "\n",
        "# Create training and testing data generators\n",
        "train_generator = train_datagen.flow_from_directory(\n",
        "    \"train\",\n",
        "    target_size=(224, 224),  # Resize images to (224, 224)\n",
        "    batch_size=batch_size,\n",
        "    class_mode='categorical'  # Assuming you have multiple classes (categorical classification)\n",
        ")\n",
        "\n",
        "test_generator = test_datagen.flow_from_directory(\n",
        "    \"test\",\n",
        "    target_size=(224, 224),  # Resize images to (224, 224)\n",
        "    batch_size=batch_size,\n",
        "    class_mode='categorical'  # Assuming you have multiple classes (categorical classification)\n",
        ")"
      ]
    },
    {
      "cell_type": "code",
      "execution_count": 24,
      "metadata": {},
      "outputs": [
        {
          "name": "stdout",
          "output_type": "stream",
          "text": [
            "Found 16347 images belonging to 24 classes.\n",
            "Found 4195 images belonging to 24 classes.\n",
            "Model: \"sequential_5\"\n",
            "_________________________________________________________________\n",
            " Layer (type)                Output Shape              Param #   \n",
            "=================================================================\n",
            " conv2d_6 (Conv2D)           (None, 222, 222, 32)      896       \n",
            "                                                                 \n",
            " max_pooling2d_6 (MaxPooling  (None, 111, 111, 32)     0         \n",
            " 2D)                                                             \n",
            "                                                                 \n",
            " conv2d_7 (Conv2D)           (None, 109, 109, 64)      18496     \n",
            "                                                                 \n",
            " max_pooling2d_7 (MaxPooling  (None, 54, 54, 64)       0         \n",
            " 2D)                                                             \n",
            "                                                                 \n",
            " conv2d_8 (Conv2D)           (None, 52, 52, 128)       73856     \n",
            "                                                                 \n",
            " max_pooling2d_8 (MaxPooling  (None, 26, 26, 128)      0         \n",
            " 2D)                                                             \n",
            "                                                                 \n",
            " flatten_2 (Flatten)         (None, 86528)             0         \n",
            "                                                                 \n",
            " dense_10 (Dense)            (None, 128)               11075712  \n",
            "                                                                 \n",
            " dropout_5 (Dropout)         (None, 128)               0         \n",
            "                                                                 \n",
            " dense_11 (Dense)            (None, 24)                3096      \n",
            "                                                                 \n",
            "=================================================================\n",
            "Total params: 11,172,056\n",
            "Trainable params: 11,172,056\n",
            "Non-trainable params: 0\n",
            "_________________________________________________________________\n",
            "Epoch 1/100\n",
            "511/511 [==============================] - 217s 422ms/step - loss: 3.0030 - accuracy: 0.1096 - val_loss: 2.9188 - val_accuracy: 0.1347\n",
            "Epoch 2/100\n",
            "511/511 [==============================] - 165s 323ms/step - loss: 2.8803 - accuracy: 0.1540 - val_loss: 2.8665 - val_accuracy: 0.1402\n",
            "Epoch 3/100\n",
            "511/511 [==============================] - 190s 371ms/step - loss: 2.8601 - accuracy: 0.1572 - val_loss: 2.9399 - val_accuracy: 0.1375\n",
            "Epoch 4/100\n",
            "511/511 [==============================] - 160s 313ms/step - loss: 2.8483 - accuracy: 0.1644 - val_loss: 2.8072 - val_accuracy: 0.1740\n",
            "Epoch 5/100\n",
            "511/511 [==============================] - 167s 326ms/step - loss: 2.7985 - accuracy: 0.1775 - val_loss: 2.7741 - val_accuracy: 0.1874\n",
            "Epoch 6/100\n",
            "511/511 [==============================] - 175s 342ms/step - loss: 2.7733 - accuracy: 0.1812 - val_loss: 2.7719 - val_accuracy: 0.1871\n",
            "Epoch 7/100\n",
            "511/511 [==============================] - 183s 358ms/step - loss: 2.7641 - accuracy: 0.1851 - val_loss: 2.7865 - val_accuracy: 0.1673\n",
            "Epoch 8/100\n",
            "511/511 [==============================] - 177s 346ms/step - loss: 2.7449 - accuracy: 0.1910 - val_loss: 2.7327 - val_accuracy: 0.1943\n",
            "Epoch 9/100\n",
            "511/511 [==============================] - 178s 347ms/step - loss: 2.7282 - accuracy: 0.1921 - val_loss: 2.7166 - val_accuracy: 0.1962\n",
            "Epoch 10/100\n",
            "511/511 [==============================] - 152s 297ms/step - loss: 2.7192 - accuracy: 0.1973 - val_loss: 2.6898 - val_accuracy: 0.2133\n",
            "Epoch 11/100\n",
            "511/511 [==============================] - 160s 313ms/step - loss: 2.6968 - accuracy: 0.2062 - val_loss: 2.7087 - val_accuracy: 0.1967\n",
            "Epoch 12/100\n",
            "511/511 [==============================] - 153s 299ms/step - loss: 2.6855 - accuracy: 0.2051 - val_loss: 2.6550 - val_accuracy: 0.2255\n",
            "Epoch 13/100\n",
            "511/511 [==============================] - 159s 310ms/step - loss: 2.6664 - accuracy: 0.2133 - val_loss: 2.6996 - val_accuracy: 0.2148\n",
            "Epoch 14/100\n",
            "511/511 [==============================] - 150s 294ms/step - loss: 2.6606 - accuracy: 0.2164 - val_loss: 2.6216 - val_accuracy: 0.2353\n",
            "Epoch 15/100\n",
            "511/511 [==============================] - 162s 316ms/step - loss: 2.6408 - accuracy: 0.2239 - val_loss: 2.6169 - val_accuracy: 0.2322\n",
            "Epoch 16/100\n",
            "511/511 [==============================] - 159s 311ms/step - loss: 2.6239 - accuracy: 0.2252 - val_loss: 2.6084 - val_accuracy: 0.2372\n",
            "Epoch 17/100\n",
            "511/511 [==============================] - 166s 325ms/step - loss: 2.6173 - accuracy: 0.2285 - val_loss: 2.6059 - val_accuracy: 0.2374\n",
            "Epoch 18/100\n",
            "511/511 [==============================] - 157s 306ms/step - loss: 2.6188 - accuracy: 0.2270 - val_loss: 2.5616 - val_accuracy: 0.2503\n",
            "Epoch 19/100\n",
            "511/511 [==============================] - 166s 325ms/step - loss: 2.5916 - accuracy: 0.2344 - val_loss: 2.6091 - val_accuracy: 0.2305\n",
            "Epoch 20/100\n",
            "511/511 [==============================] - 154s 301ms/step - loss: 2.5954 - accuracy: 0.2381 - val_loss: 2.5247 - val_accuracy: 0.2622\n",
            "Epoch 21/100\n",
            "511/511 [==============================] - 171s 334ms/step - loss: 2.5803 - accuracy: 0.2426 - val_loss: 2.6219 - val_accuracy: 0.2408\n",
            "Epoch 22/100\n",
            "511/511 [==============================] - 164s 321ms/step - loss: 2.5799 - accuracy: 0.2358 - val_loss: 2.5941 - val_accuracy: 0.2317\n",
            "Epoch 23/100\n",
            "511/511 [==============================] - 174s 341ms/step - loss: 2.5679 - accuracy: 0.2432 - val_loss: 2.5556 - val_accuracy: 0.2513\n",
            "Epoch 24/100\n",
            "511/511 [==============================] - 164s 320ms/step - loss: 2.5685 - accuracy: 0.2474 - val_loss: 2.5787 - val_accuracy: 0.2472\n",
            "Epoch 25/100\n",
            "511/511 [==============================] - 180s 352ms/step - loss: 2.5569 - accuracy: 0.2475 - val_loss: 2.5618 - val_accuracy: 0.2439\n",
            "Epoch 26/100\n",
            "328/511 [==================>...........] - ETA: 8:42 - loss: 2.5518 - accuracy: 0.2475"
          ]
        }
      ],
      "source": [
        "import tensorflow as tf\n",
        "from tensorflow.keras.preprocessing.image import ImageDataGenerator\n",
        "from tensorflow.keras.layers import Conv2D, MaxPooling2D, Flatten, Dense, Dropout\n",
        "from tensorflow.keras.models import Sequential\n",
        "from tensorflow.keras.optimizers import Adam\n",
        "from tensorflow.keras.callbacks import EarlyStopping\n",
        "\n",
        "# Set GPU memory growth\n",
        "gpus = tf.config.experimental.list_physical_devices('GPU')\n",
        "if gpus:\n",
        "    for gpu in gpus:\n",
        "        tf.config.experimental.set_memory_growth(gpu, True)\n",
        "\n",
        "# Define data generators for training and testing with data augmentation\n",
        "train_datagen = ImageDataGenerator(\n",
        "    rescale=1.0 / 255,\n",
        "    rotation_range=20,\n",
        "    width_shift_range=0.2,\n",
        "    height_shift_range=0.2,\n",
        "    shear_range=0.2,\n",
        "    zoom_range=0.2,\n",
        "    horizontal_flip=True,\n",
        "    fill_mode='nearest'\n",
        ")\n",
        "\n",
        "test_datagen = ImageDataGenerator(rescale=1.0 / 255)\n",
        "\n",
        "# Set the batch size\n",
        "batch_size = 32\n",
        "\n",
        "# Create training and testing data generators\n",
        "train_generator = train_datagen.flow_from_directory(\n",
        "    'train',\n",
        "    target_size=(224, 224),  # Resize images to (224, 224)\n",
        "    batch_size=batch_size,\n",
        "    class_mode='categorical'  # Assuming you have multiple classes (categorical classification)\n",
        ")\n",
        "\n",
        "test_generator = test_datagen.flow_from_directory(\n",
        "    'test',\n",
        "    target_size=(224, 224),\n",
        "    batch_size=batch_size,\n",
        "    class_mode='categorical'\n",
        ")\n",
        "\n",
        "# Build the CNN model\n",
        "model = Sequential([\n",
        "    Conv2D(32, (3, 3), activation='relu', input_shape=(224, 224, 3)),\n",
        "    MaxPooling2D((2, 2)),\n",
        "    \n",
        "    Conv2D(64, (3, 3), activation='relu'),\n",
        "    MaxPooling2D((2, 2)),\n",
        "    \n",
        "    Conv2D(128, (3, 3), activation='relu'),\n",
        "    MaxPooling2D((2, 2)),\n",
        "    \n",
        "    Flatten(),\n",
        "    Dense(128, activation='relu'),\n",
        "    Dropout(0.5),\n",
        "    Dense(train_generator.num_classes, activation='softmax')  # Output layer with dynamic class count\n",
        "])\n",
        "\n",
        "# Compile the model\n",
        "optimizer = Adam(learning_rate=0.001)\n",
        "model.compile(optimizer=optimizer, loss='categorical_crossentropy', metrics=['accuracy'])\n",
        "\n",
        "model.summary()\n",
        "\n",
        "# Set the number of training epochs\n",
        "epochs = 100  # Increase the number of epochs\n",
        "\n",
        "# Implement early stopping\n",
        "early_stopping = EarlyStopping(monitor='val_loss', patience=10, restore_best_weights=True)\n",
        "\n",
        "# Train the model with early stopping\n",
        "history = model.fit(\n",
        "    train_generator,\n",
        "    epochs=epochs,\n",
        "    validation_data=test_generator,\n",
        "    callbacks=[early_stopping]\n",
        ")\n",
        "\n",
        "# Predict accuracy on the test dataset\n",
        "test_loss, test_accuracy = model.evaluate(test_generator)\n",
        "print(f\"Test Accuracy: {test_accuracy * 100:.2f}%\")\n"
      ]
    },
    {
      "cell_type": "code",
      "execution_count": null,
      "metadata": {},
      "outputs": [],
      "source": []
    },
    {
      "cell_type": "code",
      "execution_count": null,
      "metadata": {},
      "outputs": [],
      "source": []
    },
    {
      "cell_type": "code",
      "execution_count": null,
      "metadata": {},
      "outputs": [],
      "source": []
    },
    {
      "cell_type": "code",
      "execution_count": null,
      "metadata": {},
      "outputs": [],
      "source": []
    },
    {
      "cell_type": "code",
      "execution_count": null,
      "metadata": {},
      "outputs": [],
      "source": []
    },
    {
      "cell_type": "code",
      "execution_count": null,
      "metadata": {},
      "outputs": [],
      "source": []
    },
    {
      "cell_type": "code",
      "execution_count": null,
      "metadata": {},
      "outputs": [],
      "source": []
    },
    {
      "cell_type": "code",
      "execution_count": null,
      "metadata": {},
      "outputs": [],
      "source": []
    },
    {
      "cell_type": "code",
      "execution_count": null,
      "metadata": {},
      "outputs": [],
      "source": []
    },
    {
      "cell_type": "code",
      "execution_count": null,
      "metadata": {},
      "outputs": [],
      "source": []
    },
    {
      "cell_type": "code",
      "execution_count": null,
      "metadata": {},
      "outputs": [],
      "source": []
    },
    {
      "cell_type": "code",
      "execution_count": null,
      "metadata": {},
      "outputs": [],
      "source": []
    },
    {
      "cell_type": "code",
      "execution_count": null,
      "metadata": {},
      "outputs": [],
      "source": []
    },
    {
      "cell_type": "code",
      "execution_count": null,
      "metadata": {},
      "outputs": [],
      "source": []
    },
    {
      "cell_type": "code",
      "execution_count": null,
      "metadata": {},
      "outputs": [],
      "source": []
    },
    {
      "cell_type": "code",
      "execution_count": null,
      "metadata": {},
      "outputs": [],
      "source": []
    },
    {
      "cell_type": "code",
      "execution_count": null,
      "metadata": {},
      "outputs": [],
      "source": []
    },
    {
      "cell_type": "code",
      "execution_count": null,
      "metadata": {},
      "outputs": [],
      "source": []
    },
    {
      "cell_type": "code",
      "execution_count": null,
      "metadata": {},
      "outputs": [],
      "source": []
    },
    {
      "cell_type": "code",
      "execution_count": 21,
      "metadata": {},
      "outputs": [
        {
          "name": "stderr",
          "output_type": "stream",
          "text": [
            "WARNING:absl:Function `_wrapped_model` contains input name(s) mobilenetv2_1.00_224_input with unsupported characters which will be renamed to mobilenetv2_1_00_224_input in the SavedModel.\n",
            "WARNING:absl:Found untraced functions such as _jit_compiled_convolution_op, _jit_compiled_convolution_op, _jit_compiled_convolution_op, _jit_compiled_convolution_op, _jit_compiled_convolution_op while saving (showing 5 of 52). These functions will not be directly callable after loading.\n"
          ]
        },
        {
          "name": "stdout",
          "output_type": "stream",
          "text": [
            "INFO:tensorflow:Assets written to: ram://62d7159f-f55c-4eee-b828-336f18a98902/assets\n"
          ]
        },
        {
          "name": "stderr",
          "output_type": "stream",
          "text": [
            "INFO:tensorflow:Assets written to: ram://62d7159f-f55c-4eee-b828-336f18a98902/assets\n"
          ]
        },
        {
          "name": "stdout",
          "output_type": "stream",
          "text": [
            "Model saved as skin_disease.pkl\n"
          ]
        }
      ],
      "source": [
        "import pickle\n",
        "\n",
        "# Replace 'your_model' with your actual machine learning model object\n",
        "your_model = history  # Your trained model\n",
        "\n",
        "# Specify the file path where you want to save the PKL file\n",
        "file_path = 'skin_disease.pkl'\n",
        "\n",
        "# Save the model to the PKL file\n",
        "with open(file_path, 'wb') as file:\n",
        "    pickle.dump(your_model, file)\n",
        "\n",
        "print(f'Model saved as {file_path}')\n"
      ]
    },
    {
      "cell_type": "code",
      "execution_count": null,
      "metadata": {},
      "outputs": [],
      "source": []
    },
    {
      "cell_type": "code",
      "execution_count": null,
      "metadata": {},
      "outputs": [],
      "source": []
    },
    {
      "cell_type": "code",
      "execution_count": null,
      "metadata": {},
      "outputs": [],
      "source": []
    },
    {
      "cell_type": "code",
      "execution_count": null,
      "metadata": {},
      "outputs": [],
      "source": []
    },
    {
      "cell_type": "code",
      "execution_count": null,
      "metadata": {},
      "outputs": [],
      "source": []
    },
    {
      "cell_type": "code",
      "execution_count": null,
      "metadata": {},
      "outputs": [],
      "source": []
    },
    {
      "cell_type": "code",
      "execution_count": null,
      "metadata": {},
      "outputs": [],
      "source": []
    },
    {
      "cell_type": "code",
      "execution_count": null,
      "metadata": {},
      "outputs": [],
      "source": []
    },
    {
      "cell_type": "code",
      "execution_count": null,
      "metadata": {},
      "outputs": [],
      "source": []
    },
    {
      "cell_type": "code",
      "execution_count": null,
      "metadata": {},
      "outputs": [],
      "source": []
    },
    {
      "cell_type": "code",
      "execution_count": null,
      "metadata": {},
      "outputs": [],
      "source": []
    }
  ],
  "metadata": {
    "accelerator": "GPU",
    "colab": {
      "gpuType": "T4",
      "provenance": []
    },
    "kernelspec": {
      "display_name": "Python 3",
      "name": "python3"
    },
    "language_info": {
      "codemirror_mode": {
        "name": "ipython",
        "version": 3
      },
      "file_extension": ".py",
      "mimetype": "text/x-python",
      "name": "python",
      "nbconvert_exporter": "python",
      "pygments_lexer": "ipython3",
      "version": "3.9.12"
    }
  },
  "nbformat": 4,
  "nbformat_minor": 0
}
