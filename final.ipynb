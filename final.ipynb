{
  "cells": [
    {
      "cell_type": "code",
      "execution_count": 15,
      "metadata": {
        "id": "Xqn9o7FRYEmX"
      },
      "outputs": [],
      "source": [
        "\n",
        "train_data_dir = \"skin/train\"\n",
        "test_data_dir = \"skin/test\""
      ]
    },
    {
      "cell_type": "code",
      "execution_count": 16,
      "metadata": {
        "colab": {
          "base_uri": "https://localhost:8080/"
        },
        "id": "zigzLeF6YPn7",
        "outputId": "9fe5544b-93c2-410d-dafd-a618a8a5f582"
      },
      "outputs": [
        {
          "name": "stdout",
          "output_type": "stream",
          "text": [
            "Found 7452 images belonging to 6 classes.\n",
            "Found 1644 images belonging to 6 classes.\n"
          ]
        }
      ],
      "source": [
        "from tensorflow.keras.preprocessing.image import ImageDataGenerator\n",
        "\n",
        "# Define data generators for training and testing\n",
        "train_datagen = ImageDataGenerator(\n",
        "    rescale=1.0/255,  # Normalize pixel values to [0, 1]\n",
        "    rotation_range=20,\n",
        "    width_shift_range=0.2,\n",
        "    height_shift_range=0.2,\n",
        "    shear_range=0.2,\n",
        "    zoom_range=0.2,\n",
        "    horizontal_flip=True,\n",
        "    fill_mode='nearest'\n",
        ")\n",
        "\n",
        "test_datagen = ImageDataGenerator(rescale=1.0/255)  # Normalize pixel values for test data\n",
        "\n",
        "# Set the batch size\n",
        "batch_size = 16\n",
        "\n",
        "# Create training and testing data generators\n",
        "train_generator = train_datagen.flow_from_directory(\n",
        "    train_data_dir,\n",
        "    target_size=(224, 224),  # Resize images to (224, 224)\n",
        "    batch_size=batch_size,\n",
        "    class_mode='categorical'  # Assuming you have multiple classes (categorical classification)\n",
        ")\n",
        "\n",
        "test_generator = test_datagen.flow_from_directory(\n",
        "    test_data_dir,\n",
        "    target_size=(224, 224),  # Resize images to (224, 224)\n",
        "    batch_size=batch_size,\n",
        "    class_mode='categorical'  # Assuming you have multiple classes (categorical classification)\n",
        ")\n"
      ]
    },
    {
      "cell_type": "code",
      "execution_count": 17,
      "metadata": {
        "colab": {
          "base_uri": "https://localhost:8080/"
        },
        "id": "SIvz4O73YZlD",
        "outputId": "b3ff84dc-e344-4757-f081-124b6d441575"
      },
      "outputs": [
        {
          "name": "stdout",
          "output_type": "stream",
          "text": [
            "Model: \"sequential_2\"\n",
            "_________________________________________________________________\n",
            " Layer (type)                Output Shape              Param #   \n",
            "=================================================================\n",
            " mobilenetv2_1.00_224 (Funct  (None, 7, 7, 1280)       2257984   \n",
            " ional)                                                          \n",
            "                                                                 \n",
            " global_average_pooling2d_2   (None, 1280)             0         \n",
            " (GlobalAveragePooling2D)                                        \n",
            "                                                                 \n",
            " dropout_2 (Dropout)         (None, 1280)              0         \n",
            "                                                                 \n",
            " dense_4 (Dense)             (None, 128)               163968    \n",
            "                                                                 \n",
            " dense_5 (Dense)             (None, 6)                 774       \n",
            "                                                                 \n",
            "=================================================================\n",
            "Total params: 2,422,726\n",
            "Trainable params: 2,388,614\n",
            "Non-trainable params: 34,112\n",
            "_________________________________________________________________\n"
          ]
        }
      ],
      "source": [
        "from tensorflow.keras.applications import MobileNetV2\n",
        "from tensorflow.keras import layers, models\n",
        "from tensorflow.keras.layers import Dropout\n",
        "from tensorflow.keras.regularizers import l2\n",
        "\n",
        "\n",
        "# Load the pre-trained MobileNetV2 model\n",
        "base_model = MobileNetV2(weights='imagenet', include_top=False, input_shape=(224, 224, 3))\n",
        "\n",
        "# Add custom classification layers on top\n",
        "model = models.Sequential([\n",
        "    base_model,\n",
        "    layers.GlobalAveragePooling2D(),# Pooling layer\n",
        "    Dropout(0.5),\n",
        "    layers.Dense(128, activation='relu'),  # Additional dense layer (adjust as needed)\n",
        "    layers.Dense(6, activation='softmax')  # 23 disease classes + 1 for normal\n",
        "])\n",
        "\n",
        "\n",
        "from tensorflow.keras.optimizers import Adam\n",
        "\n",
        "# Change the learning rate to a different value, e.g., 0.001\n",
        "optimizer = Adam(learning_rate=0.001)\n",
        "\n",
        "# Compile the model with the updated optimizer\n",
        "model.compile(optimizer=optimizer, loss='categorical_crossentropy', metrics=['accuracy'])\n",
        "\n",
        "model.summary()  # View the model architecture\n"
      ]
    },
    {
      "cell_type": "code",
      "execution_count": 18,
      "metadata": {
        "colab": {
          "base_uri": "https://localhost:8080/"
        },
        "id": "UbptsEwcYeIk",
        "outputId": "18495664-4873-4753-f4ea-d607c19b6efa"
      },
      "outputs": [
        {
          "name": "stdout",
          "output_type": "stream",
          "text": [
            "Epoch 1/30\n",
            "177/466 [==========>...................] - ETA: 1:22 - loss: 1.2148 - accuracy: 0.4862"
          ]
        }
      ],
      "source": [
        "# Set the number of training epochs\n",
        "epochs = 30\n",
        "# Train the model\n",
        "history = model.fit(\n",
        "    train_generator,\n",
        "    epochs=epochs,\n",
        "    validation_data=test_generator\n",
        ")\n"
      ]
    },
    {
      "cell_type": "markdown",
      "metadata": {},
      "source": []
    },
    {
      "cell_type": "code",
      "execution_count": null,
      "metadata": {
        "colab": {
          "base_uri": "https://localhost:8080/"
        },
        "id": "vJ1UefV9zNei",
        "outputId": "858dccf1-72cd-4126-9fd9-877b4cdd0366"
      },
      "outputs": [
        {
          "name": "stdout",
          "output_type": "stream",
          "text": [
            "103/103 [==============================] - 8s 79ms/step - loss: 1.0092 - accuracy: 0.7518\n",
            "Test accuracy: 0.7518247961997986\n"
          ]
        }
      ],
      "source": [
        "test_loss, test_acc = model.evaluate(test_generator)\n",
        "print(f'Test accuracy: {test_acc}')"
      ]
    },
    {
      "cell_type": "code",
      "execution_count": null,
      "metadata": {
        "colab": {
          "base_uri": "https://localhost:8080/",
          "height": 125
        },
        "id": "hxC3ifjFqe6K",
        "outputId": "ed4238e3-442d-4a01-cdb9-0c3795b59c6c"
      },
      "outputs": [
        {
          "ename": "NameError",
          "evalue": "name 'model' is not defined",
          "output_type": "error",
          "traceback": [
            "\u001b[1;31m---------------------------------------------------------------------------\u001b[0m",
            "\u001b[1;31mNameError\u001b[0m                                 Traceback (most recent call last)",
            "\u001b[1;32md:\\skindisease\\final.ipynb Cell 7\u001b[0m line \u001b[0;36m2\n\u001b[0;32m     <a href='vscode-notebook-cell:/d%3A/skindisease/final.ipynb#W6sZmlsZQ%3D%3D?line=18'>19</a>\u001b[0m img_array \u001b[39m=\u001b[39m img_array \u001b[39m/\u001b[39m \u001b[39m255.0\u001b[39m  \u001b[39m# Normalize pixel values\u001b[39;00m\n\u001b[0;32m     <a href='vscode-notebook-cell:/d%3A/skindisease/final.ipynb#W6sZmlsZQ%3D%3D?line=20'>21</a>\u001b[0m \u001b[39m# Make predictions\u001b[39;00m\n\u001b[1;32m---> <a href='vscode-notebook-cell:/d%3A/skindisease/final.ipynb#W6sZmlsZQ%3D%3D?line=21'>22</a>\u001b[0m predictions \u001b[39m=\u001b[39m model\u001b[39m.\u001b[39mpredict(img_array)\n\u001b[0;32m     <a href='vscode-notebook-cell:/d%3A/skindisease/final.ipynb#W6sZmlsZQ%3D%3D?line=23'>24</a>\u001b[0m \u001b[39m# Get the predicted class index\u001b[39;00m\n\u001b[0;32m     <a href='vscode-notebook-cell:/d%3A/skindisease/final.ipynb#W6sZmlsZQ%3D%3D?line=24'>25</a>\u001b[0m predicted_class_index \u001b[39m=\u001b[39m np\u001b[39m.\u001b[39margmax(predictions)\n",
            "\u001b[1;31mNameError\u001b[0m: name 'model' is not defined"
          ]
        }
      ],
      "source": [
        "# from google.colab import files\n",
        "from tensorflow.keras.preprocessing import image\n",
        "import numpy as np\n",
        "import os\n",
        "\n",
        "\n",
        "# Get the uploaded image file name (assuming only one file is uploaded)\n",
        "uploaded_image_filename = r\"D:\\skindisease\\skin\\test\\Eczema Photos\\eczema-nummular-11.jpg\"\n",
        "\n",
        "\n",
        "\n",
        "# Get the class labels from the subdirectories in the training data folder\n",
        "class_labels =  [\"Acne and Rosacea Photos\",\"Eczema Photos\",\"Normal\",\"Psoriasis pictures Lichen Planus and related diseases\",\"Tinea Ringworm Candidiasis and other Fungal Infections\",\"vitiligo\"]\n",
        "# print(class_labels)\n",
        "# Load and preprocess the uploaded image\n",
        "img = image.load_img(uploaded_image_filename, target_size=(224, 224))  # Resize to (224, 224)\n",
        "img_array = image.img_to_array(img)\n",
        "img_array = np.expand_dims(img_array, axis=0)  # Add batch dimension\n",
        "img_array = img_array / 255.0  # Normalize pixel values\n",
        "\n",
        "# Make predictions\n",
        "predictions = model.predict(img_array)\n",
        "\n",
        "# Get the predicted class index\n",
        "predicted_class_index = np.argmax(predictions)\n",
        "\n",
        "# Get the predicted class label using the extracted class labels\n",
        "predicted_class_label = class_labels[predicted_class_index]\n",
        "\n",
        "# Get the probability of the predicted class\n",
        "predicted_probability = predictions[0][predicted_class_index]\n",
        "\n",
        "# Display the results\n",
        "print(f'Predicted class: {predicted_class_label}')\n",
        "\n",
        "print(f'Probability: {predicted_probability:.2f}')\n",
        "\n"
      ]
    },
    {
      "cell_type": "code",
      "execution_count": null,
      "metadata": {},
      "outputs": [],
      "source": []
    },
    {
      "cell_type": "code",
      "execution_count": null,
      "metadata": {
        "colab": {
          "base_uri": "https://localhost:8080/"
        },
        "id": "QtuX-P7HA1Pk",
        "outputId": "6ec53af5-d1cd-4497-bca1-2ea4723bec0c"
      },
      "outputs": [],
      "source": [
        "model.save('final.h5')\n",
        "model.save('my_model.keras')"
      ]
    },
    {
      "cell_type": "code",
      "execution_count": 12,
      "metadata": {
        "colab": {
          "base_uri": "https://localhost:8080/",
          "height": 245
        },
        "id": "fLX4bOYihnp1",
        "outputId": "425be5c9-10f3-40b3-b5c3-0b6458c8b4d4"
      },
      "outputs": [
        {
          "name": "stdout",
          "output_type": "stream",
          "text": [
            "1/1 [==============================] - 0s 485ms/step\n",
            "Predicted class: Acne and Rosacea Photos\n"
          ]
        }
      ],
      "source": [
        "import tensorflow as tf\n",
        "from tensorflow.keras.preprocessing import image\n",
        "import numpy as np\n",
        "loaded_model = tf.keras.models.load_model(\"final_model_62.h5\")\n",
        "\n",
        "uploaded_image_filename = r\"acne.jpg\"\n",
        "\n",
        "# Get the class labels from the subdirectories in the training data folder\n",
        "class_labels =  [\"Acne and Rosacea Photos\",\"Eczema Photos\",\"Normal\",\"Psoriasis pictures Lichen Planus and related diseases\",\"Tinea Ringworm Candidiasis and other Fungal Infections\",\"vitiligo\"]\n",
        "# print(class_labels)\n",
        "# Load and preprocess the uploaded image\n",
        "img = image.load_img(uploaded_image_filename, target_size=(224, 224))  # Resize to (224, 224)\n",
        "img_array = image.img_to_array(img)\n",
        "img_array = np.expand_dims(img_array, axis=0)  # Add batch dimension\n",
        "img_array = img_array / 255.0  # Normalize pixel values\n",
        "\n",
        "# Make predictions\n",
        "predictions = loaded_model.predict(img_array)\n",
        "\n",
        "# Get the predicted class index\n",
        "predicted_class_index = np.argmax(predictions)\n",
        "\n",
        "# Get the predicted class label using the extracted class labels\n",
        "predicted_class_label = class_labels[predicted_class_index]\n",
        "\n",
        "print(f'Predicted class: {predicted_class_label}')\n"
      ]
    },
    {
      "cell_type": "code",
      "execution_count": null,
      "metadata": {},
      "outputs": [],
      "source": []
    },
    {
      "cell_type": "code",
      "execution_count": null,
      "metadata": {},
      "outputs": [],
      "source": []
    },
    {
      "cell_type": "code",
      "execution_count": null,
      "metadata": {},
      "outputs": [],
      "source": []
    },
    {
      "cell_type": "code",
      "execution_count": null,
      "metadata": {},
      "outputs": [],
      "source": []
    },
    {
      "cell_type": "code",
      "execution_count": null,
      "metadata": {},
      "outputs": [],
      "source": []
    },
    {
      "cell_type": "code",
      "execution_count": null,
      "metadata": {},
      "outputs": [],
      "source": []
    },
    {
      "cell_type": "code",
      "execution_count": null,
      "metadata": {},
      "outputs": [],
      "source": []
    },
    {
      "cell_type": "code",
      "execution_count": null,
      "metadata": {},
      "outputs": [],
      "source": []
    },
    {
      "cell_type": "code",
      "execution_count": null,
      "metadata": {},
      "outputs": [],
      "source": []
    },
    {
      "cell_type": "code",
      "execution_count": null,
      "metadata": {},
      "outputs": [],
      "source": []
    },
    {
      "cell_type": "code",
      "execution_count": null,
      "metadata": {},
      "outputs": [],
      "source": []
    },
    {
      "cell_type": "code",
      "execution_count": null,
      "metadata": {},
      "outputs": [],
      "source": []
    },
    {
      "cell_type": "code",
      "execution_count": null,
      "metadata": {},
      "outputs": [],
      "source": []
    },
    {
      "cell_type": "code",
      "execution_count": null,
      "metadata": {},
      "outputs": [],
      "source": []
    },
    {
      "cell_type": "code",
      "execution_count": null,
      "metadata": {},
      "outputs": [],
      "source": []
    },
    {
      "cell_type": "code",
      "execution_count": null,
      "metadata": {},
      "outputs": [],
      "source": []
    },
    {
      "cell_type": "code",
      "execution_count": null,
      "metadata": {},
      "outputs": [],
      "source": []
    },
    {
      "cell_type": "code",
      "execution_count": null,
      "metadata": {
        "id": "GDKIloUFkc5x"
      },
      "outputs": [],
      "source": []
    }
  ],
  "metadata": {
    "accelerator": "GPU",
    "colab": {
      "gpuType": "T4",
      "provenance": []
    },
    "kernelspec": {
      "display_name": "Python 3",
      "name": "python3"
    },
    "language_info": {
      "codemirror_mode": {
        "name": "ipython",
        "version": 3
      },
      "file_extension": ".py",
      "mimetype": "text/x-python",
      "name": "python",
      "nbconvert_exporter": "python",
      "pygments_lexer": "ipython3",
      "version": "3.9.12"
    }
  },
  "nbformat": 4,
  "nbformat_minor": 0
}
